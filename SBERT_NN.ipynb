{
 "cells": [
  {
   "cell_type": "markdown",
   "metadata": {},
   "source": [
    "## **SBERT with Custom Neural Network**\n",
    "### **Davit Davtyan**"
   ]
  },
  {
   "cell_type": "markdown",
   "metadata": {},
   "source": [
    "#### **Imports and Setup**"
   ]
  },
  {
   "cell_type": "code",
   "execution_count": 13,
   "metadata": {},
   "outputs": [],
   "source": [
    "import pandas as pd\n",
    "import numpy as np\n",
    "from datasets import load_dataset\n",
    "from sklearn.metrics import classification_report\n",
    "from sklearn.pipeline import make_pipeline\n",
    "from sklearn.preprocessing import StandardScaler\n",
    "from sklearn.metrics import accuracy_score, f1_score\n",
    "import torch\n",
    "import torch.nn as nn\n",
    "import torch.optim as optim\n",
    "from torch.utils.data import DataLoader, TensorDataset\n",
    "from sentence_transformers import SentenceTransformer"
   ]
  },
  {
   "cell_type": "markdown",
   "metadata": {},
   "source": [
    "#### **1. Data Loading**"
   ]
  },
  {
   "cell_type": "code",
   "execution_count": 14,
   "metadata": {},
   "outputs": [
    {
     "name": "stdout",
     "output_type": "stream",
     "text": [
      "DatasetDict({\n",
      "    train: Dataset({\n",
      "        features: ['id', 'dialogue', 'summary', 'topic'],\n",
      "        num_rows: 12460\n",
      "    })\n",
      "    validation: Dataset({\n",
      "        features: ['id', 'dialogue', 'summary', 'topic'],\n",
      "        num_rows: 500\n",
      "    })\n",
      "    test: Dataset({\n",
      "        features: ['id', 'dialogue', 'summary', 'topic'],\n",
      "        num_rows: 1500\n",
      "    })\n",
      "})\n"
     ]
    }
   ],
   "source": [
    "ds = load_dataset(\"knkarthick/dialogsum\")\n",
    "print(ds)"
   ]
  },
  {
   "cell_type": "markdown",
   "metadata": {},
   "source": [
    "#### **2. Data Preprocessing**"
   ]
  },
  {
   "cell_type": "code",
   "execution_count": 15,
   "metadata": {},
   "outputs": [],
   "source": [
    "clusters = pd.read_csv('dialogsum_clustered.csv')\n",
    "\n",
    "train_df = pd.DataFrame(ds['train'])\n",
    "validation_df = pd.DataFrame(ds['validation'])\n",
    "test_df = pd.DataFrame(ds['test'])\n",
    "\n",
    "train_df = train_df.merge(clusters, on='id', how='left')\n",
    "validation_df = validation_df.merge(clusters, on='id', how='left')\n",
    "test_df = test_df.merge(clusters, on='id', how='left').dropna(subset=['cluster'])\n",
    "\n",
    "train_df['combined_text'] = train_df['dialogue'] + \" [SEP] \" + train_df['summary']\n",
    "validation_df['combined_text'] = validation_df['dialogue'] + \" [SEP] \" + validation_df['summary']\n",
    "test_df['combined_text'] = test_df['dialogue'] + \" [SEP] \" + test_df['summary']"
   ]
  },
  {
   "cell_type": "code",
   "execution_count": 16,
   "metadata": {},
   "outputs": [],
   "source": [
    "train_texts = train_df['combined_text'].tolist()\n",
    "train_labels = train_df['cluster'].tolist()\n",
    "\n",
    "validation_texts = validation_df['combined_text'].tolist()\n",
    "validation_labels = validation_df['cluster'].tolist()\n",
    "\n",
    "test_texts = test_df['combined_text'].tolist()\n",
    "test_labels = test_df['cluster'].tolist()"
   ]
  },
  {
   "cell_type": "markdown",
   "metadata": {},
   "source": [
    "#### **3. Text Vectorization**"
   ]
  },
  {
   "cell_type": "code",
   "execution_count": 17,
   "metadata": {},
   "outputs": [],
   "source": [
    "sbert_model = SentenceTransformer('all-MiniLM-L6-v2')"
   ]
  },
  {
   "cell_type": "code",
   "execution_count": 6,
   "metadata": {},
   "outputs": [],
   "source": [
    "# Convert texts to embeddings\n",
    "train_embeddings = sbert_model.encode(train_texts, convert_to_tensor=True)\n",
    "validation_embeddings = sbert_model.encode(validation_texts, convert_to_tensor=True)\n",
    "test_embeddings = sbert_model.encode(test_texts, convert_to_tensor=True)\n",
    "\n",
    "# Convert labels to tensors\n",
    "train_labels = torch.tensor(train_labels)\n",
    "validation_labels = torch.tensor(validation_labels)\n",
    "test_labels = torch.tensor(test_labels)"
   ]
  },
  {
   "cell_type": "code",
   "execution_count": 7,
   "metadata": {},
   "outputs": [],
   "source": [
    "# Save the embeddings\n",
    "torch.save(train_embeddings, 'train_embeddings.pt')\n",
    "torch.save(validation_embeddings, 'validation_embeddings.pt')\n",
    "torch.save(test_embeddings, 'test_embeddings.pt')\n",
    "\n",
    "# Save the labels as well\n",
    "torch.save(train_labels, 'train_labels.pt')\n",
    "torch.save(validation_labels, 'validation_labels.pt')\n",
    "torch.save(test_labels, 'test_labels.pt')"
   ]
  },
  {
   "cell_type": "code",
   "execution_count": 18,
   "metadata": {},
   "outputs": [],
   "source": [
    "# Load the embeddings\n",
    "train_embeddings = torch.load('train_embeddings.pt')\n",
    "validation_embeddings = torch.load('validation_embeddings.pt')\n",
    "test_embeddings = torch.load('test_embeddings.pt')\n",
    "\n",
    "# Load the labels\n",
    "train_labels = torch.load('train_labels.pt')\n",
    "validation_labels = torch.load('validation_labels.pt')\n",
    "test_labels = torch.load('test_labels.pt')"
   ]
  },
  {
   "cell_type": "code",
   "execution_count": 23,
   "metadata": {},
   "outputs": [],
   "source": [
    "batch_size = 32\n",
    "\n",
    "train_dataset = TensorDataset(train_embeddings, train_labels)\n",
    "train_loader = DataLoader(train_dataset, batch_size=batch_size, shuffle=True)\n",
    "\n",
    "validation_dataset = TensorDataset(validation_embeddings, validation_labels)\n",
    "validation_loader = DataLoader(validation_dataset, batch_size=batch_size)\n",
    "\n",
    "test_dataset = TensorDataset(test_embeddings, test_labels)\n",
    "test_loader = DataLoader(test_dataset, batch_size=batch_size)"
   ]
  },
  {
   "cell_type": "markdown",
   "metadata": {},
   "source": [
    "#### **4. Model Definition**"
   ]
  },
  {
   "cell_type": "code",
   "execution_count": 24,
   "metadata": {},
   "outputs": [],
   "source": [
    "class NeuralNet(nn.Module):\n",
    "    def __init__(self, input_dim, num_classes):\n",
    "        super(NeuralNet, self).__init__()\n",
    "        self.fc1 = nn.Linear(input_dim, 512)\n",
    "        self.relu = nn.ReLU()\n",
    "        self.dropout = nn.Dropout(0.5)\n",
    "        self.fc2 = nn.Linear(512, num_classes)\n",
    "\n",
    "    def forward(self, x):\n",
    "        out = self.fc1(x)\n",
    "        out = self.relu(out)\n",
    "        out = self.dropout(out)\n",
    "        out = self.fc2(out)\n",
    "        return out\n",
    "\n",
    "model = NeuralNet(input_dim=384, num_classes=20)  # 384 for 'all-MiniLM-L6-v2' embeddings"
   ]
  },
  {
   "cell_type": "markdown",
   "metadata": {},
   "source": [
    "#### **5. Model Training**"
   ]
  },
  {
   "cell_type": "code",
   "execution_count": 25,
   "metadata": {},
   "outputs": [
    {
     "name": "stdout",
     "output_type": "stream",
     "text": [
      "Epoch [1/10], Loss: 1.9273, Validation Accuracy: 33.20%\n",
      "Epoch [2/10], Loss: 1.9729, Validation Accuracy: 36.20%\n",
      "Epoch [3/10], Loss: 2.1730, Validation Accuracy: 36.60%\n",
      "Epoch [4/10], Loss: 2.1014, Validation Accuracy: 39.00%\n",
      "Epoch [5/10], Loss: 1.8482, Validation Accuracy: 39.40%\n",
      "Epoch [6/10], Loss: 2.5078, Validation Accuracy: 41.40%\n",
      "Epoch [7/10], Loss: 2.0506, Validation Accuracy: 40.20%\n",
      "Epoch [8/10], Loss: 1.8443, Validation Accuracy: 39.20%\n",
      "Epoch [9/10], Loss: 1.6120, Validation Accuracy: 41.40%\n",
      "Epoch [10/10], Loss: 1.6391, Validation Accuracy: 41.00%\n"
     ]
    }
   ],
   "source": [
    "criterion = nn.CrossEntropyLoss()\n",
    "optimizer = optim.Adam(model.parameters(), lr=0.001)\n",
    "\n",
    "def train_model(num_epochs):\n",
    "    for epoch in range(num_epochs):\n",
    "        model.train()\n",
    "        for inputs, labels in train_loader:\n",
    "            optimizer.zero_grad()\n",
    "            outputs = model(inputs)\n",
    "            loss = criterion(outputs, labels)\n",
    "            loss.backward()\n",
    "            optimizer.step()\n",
    "\n",
    "        # Validation accuracy\n",
    "        model.eval()\n",
    "        with torch.no_grad():\n",
    "            correct = 0\n",
    "            total = 0\n",
    "            for inputs, labels in validation_loader:\n",
    "                outputs = model(inputs)\n",
    "                _, predicted = torch.max(outputs.data, 1)\n",
    "                total += labels.size(0)\n",
    "                correct += (predicted == labels).sum().item()\n",
    "        print(f'Epoch [{epoch+1}/{num_epochs}], Loss: {loss.item():.4f}, Validation Accuracy: {100 * correct / total:.2f}%')\n",
    "\n",
    "train_model(num_epochs=10)"
   ]
  },
  {
   "cell_type": "markdown",
   "metadata": {},
   "source": [
    "#### **6. Model Evaluation**"
   ]
  },
  {
   "cell_type": "code",
   "execution_count": 26,
   "metadata": {},
   "outputs": [
    {
     "name": "stdout",
     "output_type": "stream",
     "text": [
      "Test Accuracy: 0.3820, Test F1 Score: 0.3768\n"
     ]
    }
   ],
   "source": [
    "model.eval()\n",
    "test_preds = []\n",
    "with torch.no_grad():\n",
    "    for inputs, _ in test_loader:\n",
    "        outputs = model(inputs)\n",
    "        _, predicted = torch.max(outputs.data, 1)\n",
    "        test_preds.extend(predicted.numpy())\n",
    "\n",
    "test_f1 = f1_score(test_labels.numpy(), test_preds, average='weighted')\n",
    "test_accuracy = accuracy_score(test_labels.numpy(), test_preds)\n",
    "print(f'Test Accuracy: {test_accuracy:.4f}, Test F1 Score: {test_f1:.4f}')"
   ]
  },
  {
   "cell_type": "markdown",
   "metadata": {},
   "source": [
    "### **END**"
   ]
  }
 ],
 "metadata": {
  "kernelspec": {
   "display_name": ".venv",
   "language": "python",
   "name": "python3"
  },
  "language_info": {
   "codemirror_mode": {
    "name": "ipython",
    "version": 3
   },
   "file_extension": ".py",
   "mimetype": "text/x-python",
   "name": "python",
   "nbconvert_exporter": "python",
   "pygments_lexer": "ipython3",
   "version": "3.11.8"
  }
 },
 "nbformat": 4,
 "nbformat_minor": 2
}
